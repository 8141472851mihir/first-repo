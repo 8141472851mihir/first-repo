{
  "cells": [
    {
      "cell_type": "markdown",
      "metadata": {
        "id": "view-in-github",
        "colab_type": "text"
      },
      "source": [
        "<a href=\"https://colab.research.google.com/github/8141472851mihir/first-repo/blob/main/Welcome_To_Colab.ipynb\" target=\"_parent\"><img src=\"https://colab.research.google.com/assets/colab-badge.svg\" alt=\"Open In Colab\"/></a>"
      ]
    },
    {
      "cell_type": "markdown",
      "source": [
        "# New Section"
      ],
      "metadata": {
        "id": "eslg_SzQ2rwf"
      }
    },
    {
      "cell_type": "markdown",
      "source": [
        "# New Section"
      ],
      "metadata": {
        "id": "YS_DJ_vn8aT5"
      }
    },
    {
      "cell_type": "code",
      "source": [
        "!pip install --upgrade google-api-python-client google-auth-httplib2 google-auth-oauthlib pillow\n"
      ],
      "metadata": {
        "colab": {
          "base_uri": "https://localhost:8080/"
        },
        "id": "cFfwz4mk8bFg",
        "outputId": "822f45e2-2067-4785-d458-0e909cee4c5c"
      },
      "execution_count": 2,
      "outputs": [
        {
          "output_type": "stream",
          "name": "stdout",
          "text": [
            "Requirement already satisfied: google-api-python-client in /usr/local/lib/python3.12/dist-packages (2.179.0)\n",
            "Requirement already satisfied: google-auth-httplib2 in /usr/local/lib/python3.12/dist-packages (0.2.0)\n",
            "Requirement already satisfied: google-auth-oauthlib in /usr/local/lib/python3.12/dist-packages (1.2.2)\n",
            "Requirement already satisfied: pillow in /usr/local/lib/python3.12/dist-packages (11.3.0)\n",
            "Requirement already satisfied: httplib2<1.0.0,>=0.19.0 in /usr/local/lib/python3.12/dist-packages (from google-api-python-client) (0.22.0)\n",
            "Requirement already satisfied: google-auth!=2.24.0,!=2.25.0,<3.0.0,>=1.32.0 in /usr/local/lib/python3.12/dist-packages (from google-api-python-client) (2.38.0)\n",
            "Requirement already satisfied: google-api-core!=2.0.*,!=2.1.*,!=2.2.*,!=2.3.0,<3.0.0,>=1.31.5 in /usr/local/lib/python3.12/dist-packages (from google-api-python-client) (2.25.1)\n",
            "Requirement already satisfied: uritemplate<5,>=3.0.1 in /usr/local/lib/python3.12/dist-packages (from google-api-python-client) (4.2.0)\n",
            "Requirement already satisfied: requests-oauthlib>=0.7.0 in /usr/local/lib/python3.12/dist-packages (from google-auth-oauthlib) (2.0.0)\n",
            "Requirement already satisfied: googleapis-common-protos<2.0.0,>=1.56.2 in /usr/local/lib/python3.12/dist-packages (from google-api-core!=2.0.*,!=2.1.*,!=2.2.*,!=2.3.0,<3.0.0,>=1.31.5->google-api-python-client) (1.70.0)\n",
            "Requirement already satisfied: protobuf!=3.20.0,!=3.20.1,!=4.21.0,!=4.21.1,!=4.21.2,!=4.21.3,!=4.21.4,!=4.21.5,<7.0.0,>=3.19.5 in /usr/local/lib/python3.12/dist-packages (from google-api-core!=2.0.*,!=2.1.*,!=2.2.*,!=2.3.0,<3.0.0,>=1.31.5->google-api-python-client) (5.29.5)\n",
            "Requirement already satisfied: proto-plus<2.0.0,>=1.22.3 in /usr/local/lib/python3.12/dist-packages (from google-api-core!=2.0.*,!=2.1.*,!=2.2.*,!=2.3.0,<3.0.0,>=1.31.5->google-api-python-client) (1.26.1)\n",
            "Requirement already satisfied: requests<3.0.0,>=2.18.0 in /usr/local/lib/python3.12/dist-packages (from google-api-core!=2.0.*,!=2.1.*,!=2.2.*,!=2.3.0,<3.0.0,>=1.31.5->google-api-python-client) (2.32.4)\n",
            "Requirement already satisfied: cachetools<6.0,>=2.0.0 in /usr/local/lib/python3.12/dist-packages (from google-auth!=2.24.0,!=2.25.0,<3.0.0,>=1.32.0->google-api-python-client) (5.5.2)\n",
            "Requirement already satisfied: pyasn1-modules>=0.2.1 in /usr/local/lib/python3.12/dist-packages (from google-auth!=2.24.0,!=2.25.0,<3.0.0,>=1.32.0->google-api-python-client) (0.4.2)\n",
            "Requirement already satisfied: rsa<5,>=3.1.4 in /usr/local/lib/python3.12/dist-packages (from google-auth!=2.24.0,!=2.25.0,<3.0.0,>=1.32.0->google-api-python-client) (4.9.1)\n",
            "Requirement already satisfied: pyparsing!=3.0.0,!=3.0.1,!=3.0.2,!=3.0.3,<4,>=2.4.2 in /usr/local/lib/python3.12/dist-packages (from httplib2<1.0.0,>=0.19.0->google-api-python-client) (3.2.3)\n",
            "Requirement already satisfied: oauthlib>=3.0.0 in /usr/local/lib/python3.12/dist-packages (from requests-oauthlib>=0.7.0->google-auth-oauthlib) (3.3.1)\n",
            "Requirement already satisfied: pyasn1<0.7.0,>=0.6.1 in /usr/local/lib/python3.12/dist-packages (from pyasn1-modules>=0.2.1->google-auth!=2.24.0,!=2.25.0,<3.0.0,>=1.32.0->google-api-python-client) (0.6.1)\n",
            "Requirement already satisfied: charset_normalizer<4,>=2 in /usr/local/lib/python3.12/dist-packages (from requests<3.0.0,>=2.18.0->google-api-core!=2.0.*,!=2.1.*,!=2.2.*,!=2.3.0,<3.0.0,>=1.31.5->google-api-python-client) (3.4.3)\n",
            "Requirement already satisfied: idna<4,>=2.5 in /usr/local/lib/python3.12/dist-packages (from requests<3.0.0,>=2.18.0->google-api-core!=2.0.*,!=2.1.*,!=2.2.*,!=2.3.0,<3.0.0,>=1.31.5->google-api-python-client) (3.10)\n",
            "Requirement already satisfied: urllib3<3,>=1.21.1 in /usr/local/lib/python3.12/dist-packages (from requests<3.0.0,>=2.18.0->google-api-core!=2.0.*,!=2.1.*,!=2.2.*,!=2.3.0,<3.0.0,>=1.31.5->google-api-python-client) (2.5.0)\n",
            "Requirement already satisfied: certifi>=2017.4.17 in /usr/local/lib/python3.12/dist-packages (from requests<3.0.0,>=2.18.0->google-api-core!=2.0.*,!=2.1.*,!=2.2.*,!=2.3.0,<3.0.0,>=1.31.5->google-api-python-client) (2025.8.3)\n"
          ]
        }
      ]
    },
    {
      "cell_type": "markdown",
      "source": [],
      "metadata": {
        "id": "KUIqbufY8hzQ"
      }
    },
    {
      "cell_type": "code",
      "source": [
        "from google.colab import drive\n",
        "drive.mount('/content/drive')\n"
      ],
      "metadata": {
        "colab": {
          "base_uri": "https://localhost:8080/"
        },
        "id": "c8vrsAC08iCI",
        "outputId": "dbbfb3c3-0235-4b21-a59c-fcc2aead0ca0"
      },
      "execution_count": 3,
      "outputs": [
        {
          "output_type": "stream",
          "name": "stdout",
          "text": [
            "Mounted at /content/drive\n"
          ]
        }
      ]
    },
    {
      "cell_type": "code",
      "source": [
        "\n",
        "from google_auth_oauthlib.flow import InstalledAppFlow\n",
        "from googleapiclient.discovery import build\n",
        "\n",
        "CLIENT_SECRET = \"/content/drive/MyDrive/MY SONGS/My Songs Creations/client_secret.json\"\n",
        "SCOPES = [\"https://www.googleapis.com/auth/youtube.upload\"]\n",
        "\n",
        "# Auth flow (manual console flow)\n",
        "flow = InstalledAppFlow.from_client_secrets_file(CLIENT_SECRET, SCOPES)\n",
        "creds = flow.run_local_server(port=8081, open_browser=False)\n",
        "print(\"👉 Open this URL in your browser and authorize:\\n\", auth_url)\n",
        "\n",
        "code = input(\"Paste the authorization code here: \")\n",
        "flow.fetch_token(code=code)\n",
        "\n",
        "creds = flow.credentials\n",
        "youtube = build(\"youtube\", \"v3\", credentials=creds)\n",
        "\n",
        "print(\"✅ YouTube API ready\")\n"
      ],
      "metadata": {
        "colab": {
          "base_uri": "https://localhost:8080/",
          "height": 393
        },
        "id": "BTJlO0dX8udR",
        "outputId": "025c7ce1-2149-4a4c-e61d-4e6dd18b3676"
      },
      "execution_count": 16,
      "outputs": [
        {
          "output_type": "stream",
          "name": "stdout",
          "text": [
            "Please visit this URL to authorize this application: https://accounts.google.com/o/oauth2/auth?response_type=code&client_id=1088553755519-u0f5krac9nvtla0huo49h07nm8vg9ouj.apps.googleusercontent.com&redirect_uri=http%3A%2F%2Flocalhost%3A8081%2F&scope=https%3A%2F%2Fwww.googleapis.com%2Fauth%2Fyoutube.upload&state=upfP9dKHDu4NCgjFwQsyXddhwNON0L&access_type=offline\n"
          ]
        },
        {
          "output_type": "error",
          "ename": "KeyboardInterrupt",
          "evalue": "",
          "traceback": [
            "\u001b[0;31m---------------------------------------------------------------------------\u001b[0m",
            "\u001b[0;31mKeyboardInterrupt\u001b[0m                         Traceback (most recent call last)",
            "\u001b[0;32m/tmp/ipython-input-562074126.py\u001b[0m in \u001b[0;36m<cell line: 0>\u001b[0;34m()\u001b[0m\n\u001b[1;32m      7\u001b[0m \u001b[0;31m# Auth flow (manual console flow)\u001b[0m\u001b[0;34m\u001b[0m\u001b[0;34m\u001b[0m\u001b[0m\n\u001b[1;32m      8\u001b[0m \u001b[0mflow\u001b[0m \u001b[0;34m=\u001b[0m \u001b[0mInstalledAppFlow\u001b[0m\u001b[0;34m.\u001b[0m\u001b[0mfrom_client_secrets_file\u001b[0m\u001b[0;34m(\u001b[0m\u001b[0mCLIENT_SECRET\u001b[0m\u001b[0;34m,\u001b[0m \u001b[0mSCOPES\u001b[0m\u001b[0;34m)\u001b[0m\u001b[0;34m\u001b[0m\u001b[0;34m\u001b[0m\u001b[0m\n\u001b[0;32m----> 9\u001b[0;31m \u001b[0mcreds\u001b[0m \u001b[0;34m=\u001b[0m \u001b[0mflow\u001b[0m\u001b[0;34m.\u001b[0m\u001b[0mrun_local_server\u001b[0m\u001b[0;34m(\u001b[0m\u001b[0mport\u001b[0m\u001b[0;34m=\u001b[0m\u001b[0;36m8081\u001b[0m\u001b[0;34m,\u001b[0m \u001b[0mopen_browser\u001b[0m\u001b[0;34m=\u001b[0m\u001b[0;32mFalse\u001b[0m\u001b[0;34m)\u001b[0m\u001b[0;34m\u001b[0m\u001b[0;34m\u001b[0m\u001b[0m\n\u001b[0m\u001b[1;32m     10\u001b[0m \u001b[0mprint\u001b[0m\u001b[0;34m(\u001b[0m\u001b[0;34m\"👉 Open this URL in your browser and authorize:\\n\"\u001b[0m\u001b[0;34m,\u001b[0m \u001b[0mauth_url\u001b[0m\u001b[0;34m)\u001b[0m\u001b[0;34m\u001b[0m\u001b[0;34m\u001b[0m\u001b[0m\n\u001b[1;32m     11\u001b[0m \u001b[0;34m\u001b[0m\u001b[0m\n",
            "\u001b[0;32m/usr/local/lib/python3.12/dist-packages/google_auth_oauthlib/flow.py\u001b[0m in \u001b[0;36mrun_local_server\u001b[0;34m(self, host, bind_addr, port, authorization_prompt_message, success_message, open_browser, redirect_uri_trailing_slash, timeout_seconds, token_audience, browser, **kwargs)\u001b[0m\n\u001b[1;32m    451\u001b[0m \u001b[0;34m\u001b[0m\u001b[0m\n\u001b[1;32m    452\u001b[0m             \u001b[0mlocal_server\u001b[0m\u001b[0;34m.\u001b[0m\u001b[0mtimeout\u001b[0m \u001b[0;34m=\u001b[0m \u001b[0mtimeout_seconds\u001b[0m\u001b[0;34m\u001b[0m\u001b[0;34m\u001b[0m\u001b[0m\n\u001b[0;32m--> 453\u001b[0;31m             \u001b[0mlocal_server\u001b[0m\u001b[0;34m.\u001b[0m\u001b[0mhandle_request\u001b[0m\u001b[0;34m(\u001b[0m\u001b[0;34m)\u001b[0m\u001b[0;34m\u001b[0m\u001b[0;34m\u001b[0m\u001b[0m\n\u001b[0m\u001b[1;32m    454\u001b[0m \u001b[0;34m\u001b[0m\u001b[0m\n\u001b[1;32m    455\u001b[0m             \u001b[0;31m# Note: using https here because oauthlib is very picky that\u001b[0m\u001b[0;34m\u001b[0m\u001b[0;34m\u001b[0m\u001b[0m\n",
            "\u001b[0;32m/usr/lib/python3.12/socketserver.py\u001b[0m in \u001b[0;36mhandle_request\u001b[0;34m(self)\u001b[0m\n\u001b[1;32m    295\u001b[0m \u001b[0;34m\u001b[0m\u001b[0m\n\u001b[1;32m    296\u001b[0m             \u001b[0;32mwhile\u001b[0m \u001b[0;32mTrue\u001b[0m\u001b[0;34m:\u001b[0m\u001b[0;34m\u001b[0m\u001b[0;34m\u001b[0m\u001b[0m\n\u001b[0;32m--> 297\u001b[0;31m                 \u001b[0;32mif\u001b[0m \u001b[0mselector\u001b[0m\u001b[0;34m.\u001b[0m\u001b[0mselect\u001b[0m\u001b[0;34m(\u001b[0m\u001b[0mtimeout\u001b[0m\u001b[0;34m)\u001b[0m\u001b[0;34m:\u001b[0m\u001b[0;34m\u001b[0m\u001b[0;34m\u001b[0m\u001b[0m\n\u001b[0m\u001b[1;32m    298\u001b[0m                     \u001b[0;32mreturn\u001b[0m \u001b[0mself\u001b[0m\u001b[0;34m.\u001b[0m\u001b[0m_handle_request_noblock\u001b[0m\u001b[0;34m(\u001b[0m\u001b[0;34m)\u001b[0m\u001b[0;34m\u001b[0m\u001b[0;34m\u001b[0m\u001b[0m\n\u001b[1;32m    299\u001b[0m                 \u001b[0;32melse\u001b[0m\u001b[0;34m:\u001b[0m\u001b[0;34m\u001b[0m\u001b[0;34m\u001b[0m\u001b[0m\n",
            "\u001b[0;32m/usr/lib/python3.12/selectors.py\u001b[0m in \u001b[0;36mselect\u001b[0;34m(self, timeout)\u001b[0m\n\u001b[1;32m    413\u001b[0m         \u001b[0mready\u001b[0m \u001b[0;34m=\u001b[0m \u001b[0;34m[\u001b[0m\u001b[0;34m]\u001b[0m\u001b[0;34m\u001b[0m\u001b[0;34m\u001b[0m\u001b[0m\n\u001b[1;32m    414\u001b[0m         \u001b[0;32mtry\u001b[0m\u001b[0;34m:\u001b[0m\u001b[0;34m\u001b[0m\u001b[0;34m\u001b[0m\u001b[0m\n\u001b[0;32m--> 415\u001b[0;31m             \u001b[0mfd_event_list\u001b[0m \u001b[0;34m=\u001b[0m \u001b[0mself\u001b[0m\u001b[0;34m.\u001b[0m\u001b[0m_selector\u001b[0m\u001b[0;34m.\u001b[0m\u001b[0mpoll\u001b[0m\u001b[0;34m(\u001b[0m\u001b[0mtimeout\u001b[0m\u001b[0;34m)\u001b[0m\u001b[0;34m\u001b[0m\u001b[0;34m\u001b[0m\u001b[0m\n\u001b[0m\u001b[1;32m    416\u001b[0m         \u001b[0;32mexcept\u001b[0m \u001b[0mInterruptedError\u001b[0m\u001b[0;34m:\u001b[0m\u001b[0;34m\u001b[0m\u001b[0;34m\u001b[0m\u001b[0m\n\u001b[1;32m    417\u001b[0m             \u001b[0;32mreturn\u001b[0m \u001b[0mready\u001b[0m\u001b[0;34m\u001b[0m\u001b[0;34m\u001b[0m\u001b[0m\n",
            "\u001b[0;31mKeyboardInterrupt\u001b[0m: "
          ]
        }
      ]
    },
    {
      "cell_type": "code",
      "source": [
        "from google.auth.transport.requests import Request\n",
        "from google.oauth2.credentials import Credentials\n",
        "from google_auth_oauthlib.flow import InstalledAppFlow\n",
        "import requests\n",
        "\n",
        "CLIENT_ID = \"1088553755519-u0f5krac9nvtla0huo49h07nm8vg9ouj.apps.googleusercontent.com\"\n",
        "CLIENT_SECRET = \"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\"\n",
        "REDIRECT_URI = \"http://localhost:8081/\"\n",
        "CODE = \"4/0AVMBsJhuCbeoU1B1ju4ftDDFwEYIi-kK6GZQDnrOevvqsuj0r67-qWdkFyaV1VyJfgnY9A\"  # paste your code here\n",
        "\n",
        "# Exchange code for tokens\n",
        "token_url = \"https://oauth2.googleapis.com/token\"\n",
        "data = {\n",
        "    \"code\": CODE,\n",
        "    \"client_id\": CLIENT_ID,\n",
        "    \"client_secret\": CLIENT_SECRET,\n",
        "    \"redirect_uri\": REDIRECT_URI,\n",
        "    \"grant_type\": \"authorization_code\",\n",
        "}\n",
        "r = requests.post(token_url, data=data)\n",
        "print(r.json())\n"
      ],
      "metadata": {
        "colab": {
          "base_uri": "https://localhost:8080/"
        },
        "id": "VRXvhKYD_7h7",
        "outputId": "9adb5d58-8a7a-4956-ca16-ffb7a987d6ba"
      },
      "execution_count": 19,
      "outputs": [
        {
          "output_type": "stream",
          "name": "stdout",
          "text": [
            "{'error': 'invalid_grant', 'error_description': 'Bad Request'}\n"
          ]
        }
      ]
    },
    {
      "cell_type": "code",
      "source": [
        "from google_auth_oauthlib.flow import InstalledAppFlow\n",
        "from googleapiclient.discovery import build\n",
        "\n",
        "CLIENT_SECRET = \"/content/drive/MyDrive/MY SONGS/My Songs Creations/client_secret.json\"\n",
        "SCOPES = [\n",
        "    \"https://www.googleapis.com/auth/youtube\",                # Full YouTube account access\n",
        "    \"https://www.googleapis.com/auth/youtube.force-ssl\",      # Manage account & view private data\n",
        "    \"https://www.googleapis.com/auth/youtube.readonly\",       # Read-only access\n",
        "    \"https://www.googleapis.com/auth/youtube.upload\",         # Upload videos\n",
        "    \"https://www.googleapis.com/auth/youtubepartner\",         # View/manage YouTube partner reports\n",
        "    \"https://www.googleapis.com/auth/youtubepartner-channel-audit\"  # Audit YouTube channels\n",
        "]\n",
        "\n",
        "\n",
        "# This handles everything: shows URL, you paste back code, and exchanges for tokens\n",
        "flow = InstalledAppFlow.from_client_secrets_file(CLIENT_SECRET, SCOPES)\n",
        "\n",
        "# Since no browser in Colab, prevent auto-open\n",
        "creds = flow.run_local_server(port=8081, open_browser=False)\n",
        "\n",
        "code = input(\"Paste the authorization code here: \")\n",
        "flow.fetch_token(code=code)\n",
        "\n",
        "creds = flow.credentials\n",
        "youtube = build(\"youtube\", \"v3\", credentials=creds)\n",
        "\n",
        "print(\"✅ YouTube API ready\")\n",
        "\n"
      ],
      "metadata": {
        "colab": {
          "base_uri": "https://localhost:8080/",
          "height": 393
        },
        "id": "Q6NEtcm8As8x",
        "outputId": "d37582e2-709e-4ddd-fc29-248027c54bf5"
      },
      "execution_count": 25,
      "outputs": [
        {
          "output_type": "stream",
          "name": "stdout",
          "text": [
            "Please visit this URL to authorize this application: https://accounts.google.com/o/oauth2/auth?response_type=code&client_id=1088553755519-u0f5krac9nvtla0huo49h07nm8vg9ouj.apps.googleusercontent.com&redirect_uri=http%3A%2F%2Flocalhost%3A8081%2F&scope=https%3A%2F%2Fwww.googleapis.com%2Fauth%2Fyoutube+https%3A%2F%2Fwww.googleapis.com%2Fauth%2Fyoutube.force-ssl+https%3A%2F%2Fwww.googleapis.com%2Fauth%2Fyoutube.readonly+https%3A%2F%2Fwww.googleapis.com%2Fauth%2Fyoutube.upload+https%3A%2F%2Fwww.googleapis.com%2Fauth%2Fyoutubepartner+https%3A%2F%2Fwww.googleapis.com%2Fauth%2Fyoutubepartner-channel-audit&state=lAHJ1KBsbQoTcmRpXC0jDw5S1Zb7bn&access_type=offline\n"
          ]
        },
        {
          "output_type": "error",
          "ename": "KeyboardInterrupt",
          "evalue": "",
          "traceback": [
            "\u001b[0;31m---------------------------------------------------------------------------\u001b[0m",
            "\u001b[0;31mKeyboardInterrupt\u001b[0m                         Traceback (most recent call last)",
            "\u001b[0;32m/tmp/ipython-input-4003391529.py\u001b[0m in \u001b[0;36m<cell line: 0>\u001b[0;34m()\u001b[0m\n\u001b[1;32m     17\u001b[0m \u001b[0;34m\u001b[0m\u001b[0m\n\u001b[1;32m     18\u001b[0m \u001b[0;31m# Since no browser in Colab, prevent auto-open\u001b[0m\u001b[0;34m\u001b[0m\u001b[0;34m\u001b[0m\u001b[0m\n\u001b[0;32m---> 19\u001b[0;31m \u001b[0mcreds\u001b[0m \u001b[0;34m=\u001b[0m \u001b[0mflow\u001b[0m\u001b[0;34m.\u001b[0m\u001b[0mrun_local_server\u001b[0m\u001b[0;34m(\u001b[0m\u001b[0mport\u001b[0m\u001b[0;34m=\u001b[0m\u001b[0;36m8081\u001b[0m\u001b[0;34m,\u001b[0m \u001b[0mopen_browser\u001b[0m\u001b[0;34m=\u001b[0m\u001b[0;32mFalse\u001b[0m\u001b[0;34m)\u001b[0m\u001b[0;34m\u001b[0m\u001b[0;34m\u001b[0m\u001b[0m\n\u001b[0m\u001b[1;32m     20\u001b[0m \u001b[0;34m\u001b[0m\u001b[0m\n\u001b[1;32m     21\u001b[0m \u001b[0mcode\u001b[0m \u001b[0;34m=\u001b[0m \u001b[0minput\u001b[0m\u001b[0;34m(\u001b[0m\u001b[0;34m\"Paste the authorization code here: \"\u001b[0m\u001b[0;34m)\u001b[0m\u001b[0;34m\u001b[0m\u001b[0;34m\u001b[0m\u001b[0m\n",
            "\u001b[0;32m/usr/local/lib/python3.12/dist-packages/google_auth_oauthlib/flow.py\u001b[0m in \u001b[0;36mrun_local_server\u001b[0;34m(self, host, bind_addr, port, authorization_prompt_message, success_message, open_browser, redirect_uri_trailing_slash, timeout_seconds, token_audience, browser, **kwargs)\u001b[0m\n\u001b[1;32m    451\u001b[0m \u001b[0;34m\u001b[0m\u001b[0m\n\u001b[1;32m    452\u001b[0m             \u001b[0mlocal_server\u001b[0m\u001b[0;34m.\u001b[0m\u001b[0mtimeout\u001b[0m \u001b[0;34m=\u001b[0m \u001b[0mtimeout_seconds\u001b[0m\u001b[0;34m\u001b[0m\u001b[0;34m\u001b[0m\u001b[0m\n\u001b[0;32m--> 453\u001b[0;31m             \u001b[0mlocal_server\u001b[0m\u001b[0;34m.\u001b[0m\u001b[0mhandle_request\u001b[0m\u001b[0;34m(\u001b[0m\u001b[0;34m)\u001b[0m\u001b[0;34m\u001b[0m\u001b[0;34m\u001b[0m\u001b[0m\n\u001b[0m\u001b[1;32m    454\u001b[0m \u001b[0;34m\u001b[0m\u001b[0m\n\u001b[1;32m    455\u001b[0m             \u001b[0;31m# Note: using https here because oauthlib is very picky that\u001b[0m\u001b[0;34m\u001b[0m\u001b[0;34m\u001b[0m\u001b[0m\n",
            "\u001b[0;32m/usr/lib/python3.12/socketserver.py\u001b[0m in \u001b[0;36mhandle_request\u001b[0;34m(self)\u001b[0m\n\u001b[1;32m    295\u001b[0m \u001b[0;34m\u001b[0m\u001b[0m\n\u001b[1;32m    296\u001b[0m             \u001b[0;32mwhile\u001b[0m \u001b[0;32mTrue\u001b[0m\u001b[0;34m:\u001b[0m\u001b[0;34m\u001b[0m\u001b[0;34m\u001b[0m\u001b[0m\n\u001b[0;32m--> 297\u001b[0;31m                 \u001b[0;32mif\u001b[0m \u001b[0mselector\u001b[0m\u001b[0;34m.\u001b[0m\u001b[0mselect\u001b[0m\u001b[0;34m(\u001b[0m\u001b[0mtimeout\u001b[0m\u001b[0;34m)\u001b[0m\u001b[0;34m:\u001b[0m\u001b[0;34m\u001b[0m\u001b[0;34m\u001b[0m\u001b[0m\n\u001b[0m\u001b[1;32m    298\u001b[0m                     \u001b[0;32mreturn\u001b[0m \u001b[0mself\u001b[0m\u001b[0;34m.\u001b[0m\u001b[0m_handle_request_noblock\u001b[0m\u001b[0;34m(\u001b[0m\u001b[0;34m)\u001b[0m\u001b[0;34m\u001b[0m\u001b[0;34m\u001b[0m\u001b[0m\n\u001b[1;32m    299\u001b[0m                 \u001b[0;32melse\u001b[0m\u001b[0;34m:\u001b[0m\u001b[0;34m\u001b[0m\u001b[0;34m\u001b[0m\u001b[0m\n",
            "\u001b[0;32m/usr/lib/python3.12/selectors.py\u001b[0m in \u001b[0;36mselect\u001b[0;34m(self, timeout)\u001b[0m\n\u001b[1;32m    413\u001b[0m         \u001b[0mready\u001b[0m \u001b[0;34m=\u001b[0m \u001b[0;34m[\u001b[0m\u001b[0;34m]\u001b[0m\u001b[0;34m\u001b[0m\u001b[0;34m\u001b[0m\u001b[0m\n\u001b[1;32m    414\u001b[0m         \u001b[0;32mtry\u001b[0m\u001b[0;34m:\u001b[0m\u001b[0;34m\u001b[0m\u001b[0;34m\u001b[0m\u001b[0m\n\u001b[0;32m--> 415\u001b[0;31m             \u001b[0mfd_event_list\u001b[0m \u001b[0;34m=\u001b[0m \u001b[0mself\u001b[0m\u001b[0;34m.\u001b[0m\u001b[0m_selector\u001b[0m\u001b[0;34m.\u001b[0m\u001b[0mpoll\u001b[0m\u001b[0;34m(\u001b[0m\u001b[0mtimeout\u001b[0m\u001b[0;34m)\u001b[0m\u001b[0;34m\u001b[0m\u001b[0;34m\u001b[0m\u001b[0m\n\u001b[0m\u001b[1;32m    416\u001b[0m         \u001b[0;32mexcept\u001b[0m \u001b[0mInterruptedError\u001b[0m\u001b[0;34m:\u001b[0m\u001b[0;34m\u001b[0m\u001b[0;34m\u001b[0m\u001b[0m\n\u001b[1;32m    417\u001b[0m             \u001b[0;32mreturn\u001b[0m \u001b[0mready\u001b[0m\u001b[0;34m\u001b[0m\u001b[0;34m\u001b[0m\u001b[0m\n",
            "\u001b[0;31mKeyboardInterrupt\u001b[0m: "
          ]
        }
      ]
    },
    {
      "cell_type": "code",
      "source": [
        "\n",
        "code = input(\"Paste the authorization code here: \")\n",
        "flow.fetch_token(code=code)\n",
        "\n",
        "creds = flow.credentials\n",
        "youtube = build(\"youtube\", \"v3\", credentials=creds)\n",
        "\n",
        "print(\"✅ YouTube API ready\")"
      ],
      "metadata": {
        "colab": {
          "base_uri": "https://localhost:8080/"
        },
        "id": "J9VOfW8_BlmT",
        "outputId": "4c01b640-d945-4597-c29e-79fbda0d4f81"
      },
      "execution_count": 26,
      "outputs": [
        {
          "output_type": "stream",
          "name": "stdout",
          "text": [
            "Paste the authorization code here: 4/0AVMBsJhsuE3P5sJhYj870d2dTTsF45RkutVLLOUCDL5Wm91VGQ8FmZcNJFCv8JipbC_jhQ\n",
            "✅ YouTube API ready\n"
          ]
        }
      ]
    },
    {
      "cell_type": "code",
      "source": [
        "# Just test API access: get your channel info\n",
        "request = youtube.channels().list(\n",
        "    part=\"snippet,contentDetails,statistics\",\n",
        "    mine=True\n",
        ")\n",
        "response = request.execute()\n",
        "\n",
        "print(response)\n"
      ],
      "metadata": {
        "colab": {
          "base_uri": "https://localhost:8080/"
        },
        "id": "zJ3HYTJfB6Mp",
        "outputId": "3e91a7be-4972-404a-8d91-c48115a58b92"
      },
      "execution_count": 27,
      "outputs": [
        {
          "output_type": "stream",
          "name": "stdout",
          "text": [
            "{'kind': 'youtube#channelListResponse', 'etag': 'k4IGSsdx32VldAIrnvqjxc8jpKA', 'pageInfo': {'totalResults': 1, 'resultsPerPage': 5}, 'items': [{'kind': 'youtube#channel', 'etag': '7FOrd4o6cxcPnqhPzmQYN3cqV78', 'id': 'UC2YXgNruWv5i1EkBl-BJNmw', 'snippet': {'title': 'AstroTune', 'description': '🚀 AstroTune – Elevate Your Music Experience! 🎶✨\\n\\nWelcome to AstroTune, your ultimate destination for [genre, e.g., rap, hip-hop, lo-fi, electronic, chill beats]. We bring you high-quality beats, trending tracks, and exclusive music content to keep you inspired!\\n\\n🎧 What You’ll Find Here:\\n✅ [Genre-Specific Keyword] Music & Mixes\\n✅ Latest Trending Tracks & Remixes\\n✅ Chill, Vibes & Cosmic Sounds\\n✅ [Artist/Theme Related Keywords]\\n\\n🌍 Join the AstroTune Community – Subscribe now and hit the bell 🔔 to stay updated on new uploads!\\n\\n🎵 Follow us on social media: patel_mihir_0430\\n📩 For collaborations & inquiries: patelmihir0430@gmail.com\\n\\n#AstroTune #MusicVibes #HipHopBeats #ChillMusic #TrendingTracks #RapMixes\\n', 'customUrl': '@astrotuneofficial', 'publishedAt': '2019-12-22T05:47:53.85641Z', 'thumbnails': {'default': {'url': 'https://yt3.ggpht.com/rEZ_QQ6DSB_RJCytsVCDY6H97KkqE6Vud96Vc9JUhpGNvcX0R12md-XCElXOwa5MFkieFOqQc6c=s88-c-k-c0x00ffffff-no-rj', 'width': 88, 'height': 88}, 'medium': {'url': 'https://yt3.ggpht.com/rEZ_QQ6DSB_RJCytsVCDY6H97KkqE6Vud96Vc9JUhpGNvcX0R12md-XCElXOwa5MFkieFOqQc6c=s240-c-k-c0x00ffffff-no-rj', 'width': 240, 'height': 240}, 'high': {'url': 'https://yt3.ggpht.com/rEZ_QQ6DSB_RJCytsVCDY6H97KkqE6Vud96Vc9JUhpGNvcX0R12md-XCElXOwa5MFkieFOqQc6c=s800-c-k-c0x00ffffff-no-rj', 'width': 800, 'height': 800}}, 'localized': {'title': 'AstroTune', 'description': '🚀 AstroTune – Elevate Your Music Experience! 🎶✨\\n\\nWelcome to AstroTune, your ultimate destination for [genre, e.g., rap, hip-hop, lo-fi, electronic, chill beats]. We bring you high-quality beats, trending tracks, and exclusive music content to keep you inspired!\\n\\n🎧 What You’ll Find Here:\\n✅ [Genre-Specific Keyword] Music & Mixes\\n✅ Latest Trending Tracks & Remixes\\n✅ Chill, Vibes & Cosmic Sounds\\n✅ [Artist/Theme Related Keywords]\\n\\n🌍 Join the AstroTune Community – Subscribe now and hit the bell 🔔 to stay updated on new uploads!\\n\\n🎵 Follow us on social media: patel_mihir_0430\\n📩 For collaborations & inquiries: patelmihir0430@gmail.com\\n\\n#AstroTune #MusicVibes #HipHopBeats #ChillMusic #TrendingTracks #RapMixes\\n'}, 'country': 'IN'}, 'contentDetails': {'relatedPlaylists': {'likes': 'LL', 'uploads': 'UU2YXgNruWv5i1EkBl-BJNmw'}}, 'statistics': {'viewCount': '61021', 'subscriberCount': '458', 'hiddenSubscriberCount': False, 'videoCount': '62'}}]}\n"
          ]
        }
      ]
    },
    {
      "cell_type": "code",
      "source": [
        "from PIL import Image, ImageDraw, ImageFont\n",
        "import os, glob\n",
        "\n",
        "SONGS_FOLDER = \"/content/drive/MyDrive/MY SONGS/My Songs Creations/\"\n",
        "OUTPUT_FOLDER = \"/content/videos/\"\n",
        "os.makedirs(OUTPUT_FOLDER, exist_ok=True)\n",
        "\n",
        "def generate_thumbnail(song_name, output_path):\n",
        "    img = Image.new(\"RGB\", (1280, 720), color=(40, 20, 60))  # dark purple bg\n",
        "    draw = ImageDraw.Draw(img)\n",
        "\n",
        "    try:\n",
        "        font = ImageFont.truetype(\"DejaVuSans-Bold.ttf\", 80)\n",
        "    except:\n",
        "        font = ImageFont.load_default()\n",
        "\n",
        "    w, h = draw.textsize(song_name, font=font)\n",
        "    draw.text(((1280-w)//2, (720-h)//2), song_name, font=font, fill=(255,255,255))\n",
        "    img.save(output_path)\n",
        "\n",
        "print(\"✅ Thumbnail generator ready\")\n"
      ],
      "metadata": {
        "colab": {
          "base_uri": "https://localhost:8080/"
        },
        "id": "2vxM7g3JCVhJ",
        "outputId": "127e718c-5934-4b93-b47f-8a9eba1d24bc"
      },
      "execution_count": 28,
      "outputs": [
        {
          "output_type": "stream",
          "name": "stdout",
          "text": [
            "✅ Thumbnail generator ready\n"
          ]
        }
      ]
    },
    {
      "cell_type": "code",
      "source": [
        "from PIL import Image, ImageDraw, ImageFont\n",
        "\n",
        "def generate_thumbnail(song_name, output_path):\n",
        "    # Create blank image\n",
        "    img = Image.new(\"RGB\", (1280, 720), color=(30, 30, 30))\n",
        "    draw = ImageDraw.Draw(img)\n",
        "\n",
        "    # Try loading a better font\n",
        "    try:\n",
        "        font = ImageFont.truetype(\"DejaVuSans-Bold.ttf\", 80)\n",
        "    except:\n",
        "        font = ImageFont.load_default()\n",
        "\n",
        "    # ✅ Use textbbox instead of textsize\n",
        "    bbox = draw.textbbox((0, 0), song_name, font=font)\n",
        "    w, h = bbox[2] - bbox[0], bbox[3] - bbox[1]\n",
        "\n",
        "    # Center text\n",
        "    draw.text(\n",
        "        ((1280 - w) // 2, (720 - h) // 2),\n",
        "        song_name,\n",
        "        font=font,\n",
        "        fill=(255, 255, 255)\n",
        "    )\n",
        "\n",
        "    img.save(output_path)\n"
      ],
      "metadata": {
        "id": "59HgpG4mDhZa"
      },
      "execution_count": 31,
      "outputs": []
    },
    {
      "cell_type": "markdown",
      "source": [],
      "metadata": {
        "id": "dfOfqQljuc6K"
      }
    },
    {
      "cell_type": "code",
      "source": [
        "from google.colab import drive\n",
        "drive.mount('/content/drive')"
      ],
      "metadata": {
        "id": "7v5vhCbTu5Mb"
      },
      "execution_count": null,
      "outputs": []
    },
    {
      "cell_type": "code",
      "source": [
        "import subprocess\n",
        "\n",
        "AUDIO_EXTS = (\".mp3\", \".wav\", \".m4a\")\n",
        "\n",
        "video_files = []\n",
        "\n",
        "for root, dirs, files in os.walk(SONGS_FOLDER):\n",
        "    for file in files:\n",
        "        if file.lower().endswith(AUDIO_EXTS):\n",
        "            audio_path = os.path.join(root, file)\n",
        "            base = os.path.splitext(file)[0]\n",
        "\n",
        "            thumb_path = os.path.join(OUTPUT_FOLDER, base + \".jpg\")\n",
        "            video_path = os.path.join(OUTPUT_FOLDER, base + \".mp4\")\n",
        "\n",
        "            # Generate thumbnail if not exists\n",
        "            if not os.path.exists(thumb_path):\n",
        "                generate_thumbnail(base, thumb_path)\n",
        "\n",
        "            # Generate video\n",
        "            if not os.path.exists(video_path):\n",
        "                cmd = f'ffmpeg -y -loop 1 -i \"{thumb_path}\" -i \"{audio_path}\" -c:v libx264 -c:a aac -b:a 192k -shortest -pix_fmt yuv420p \"{video_path}\"'\n",
        "                print(f\"🎵 Converting {file} → {video_path}\")\n",
        "                subprocess.call(cmd, shell=True)\n",
        "                print(f\"✅ Done: {video_path}\")\n",
        "\n",
        "            video_files.append((base, video_path))\n"
      ],
      "metadata": {
        "colab": {
          "base_uri": "https://localhost:8080/"
        },
        "id": "poRHVw4-EVtj",
        "outputId": "4128a8cc-f646-45dd-dcdf-06db222a5646"
      },
      "execution_count": null,
      "outputs": [
        {
          "output_type": "stream",
          "name": "stdout",
          "text": [
            "🎵 Converting _Never Meant to Stay(sad)_ (1).mp3 → /content/videos/_Never Meant to Stay(sad)_ (1).mp4\n",
            "✅ Done: /content/videos/_Never Meant to Stay(sad)_ (1).mp4\n",
            "🎵 Converting Phantom Echoes.mp3 → /content/videos/Phantom Echoes.mp4\n",
            "✅ Done: /content/videos/Phantom Echoes.mp4\n",
            "🎵 Converting Phantom Echoes (1).mp3 → /content/videos/Phantom Echoes (1).mp4\n",
            "✅ Done: /content/videos/Phantom Echoes (1).mp4\n",
            "🎵 Converting Saturo.mp3 → /content/videos/Saturo.mp4\n",
            "✅ Done: /content/videos/Saturo.mp4\n",
            "🎵 Converting saturo (1).mp3 → /content/videos/saturo (1).mp4\n",
            "✅ Done: /content/videos/saturo (1).mp4\n",
            "🎵 Converting Saturo(2).mp3 → /content/videos/Saturo(2).mp4\n",
            "✅ Done: /content/videos/Saturo(2).mp4\n",
            "🎵 Converting Saturo(3).mp3 → /content/videos/Saturo(3).mp4\n",
            "✅ Done: /content/videos/Saturo(3).mp4\n",
            "🎵 Converting Rise of the Shadow King.mp3 → /content/videos/Rise of the Shadow King.mp4\n",
            "✅ Done: /content/videos/Rise of the Shadow King.mp4\n",
            "🎵 Converting Rise of the Shadow King(5).mp3 → /content/videos/Rise of the Shadow King(5).mp4\n",
            "✅ Done: /content/videos/Rise of the Shadow King(5).mp4\n",
            "🎵 Converting Rise of the Shadow King(6).mp3 → /content/videos/Rise of the Shadow King(6).mp4\n",
            "✅ Done: /content/videos/Rise of the Shadow King(6).mp4\n",
            "🎵 Converting _Rise of the Shadow King (1).mp3 → /content/videos/_Rise of the Shadow King (1).mp4\n",
            "✅ Done: /content/videos/_Rise of the Shadow King (1).mp4\n",
            "🎵 Converting _Rise of the Shadow King (2).mp3 → /content/videos/_Rise of the Shadow King (2).mp4\n",
            "✅ Done: /content/videos/_Rise of the Shadow King (2).mp4\n",
            "🎵 Converting _Rise of the Shadow King (3).mp3 → /content/videos/_Rise of the Shadow King (3).mp4\n",
            "✅ Done: /content/videos/_Rise of the Shadow King (3).mp4\n",
            "🎵 Converting _Rise of the Shadow King (4).mp3 → /content/videos/_Rise of the Shadow King (4).mp4\n",
            "✅ Done: /content/videos/_Rise of the Shadow King (4).mp4\n",
            "🎵 Converting Wanderlust Dreams.mp3 → /content/videos/Wanderlust Dreams.mp4\n",
            "✅ Done: /content/videos/Wanderlust Dreams.mp4\n",
            "🎵 Converting Wanderlust Dreams (1).mp3 → /content/videos/Wanderlust Dreams (1).mp4\n",
            "✅ Done: /content/videos/Wanderlust Dreams (1).mp4\n",
            "🎵 Converting The Thing That Calls Your Name_1.mp3 → /content/videos/The Thing That Calls Your Name_1.mp4\n",
            "✅ Done: /content/videos/The Thing That Calls Your Name_1.mp4\n",
            "🎵 Converting The Thing That Calls Your Name_2.mp3 → /content/videos/The Thing That Calls Your Name_2.mp4\n",
            "✅ Done: /content/videos/The Thing That Calls Your Name_2.mp4\n",
            "🎵 Converting disconnect .mp3 → /content/videos/disconnect .mp4\n",
            "✅ Done: /content/videos/disconnect .mp4\n",
            "🎵 Converting disconnect  (1).mp3 → /content/videos/disconnect  (1).mp4\n",
            "✅ Done: /content/videos/disconnect  (1).mp4\n",
            "🎵 Converting disconnect  (Remastered).mp3 → /content/videos/disconnect  (Remastered).mp4\n",
            "✅ Done: /content/videos/disconnect  (Remastered).mp4\n",
            "🎵 Converting disconnect  (Remastered) (1).mp3 → /content/videos/disconnect  (Remastered) (1).mp4\n",
            "✅ Done: /content/videos/disconnect  (Remastered) (1).mp4\n",
            "🎵 Converting disconnect  (2).mp3 → /content/videos/disconnect  (2).mp4\n",
            "✅ Done: /content/videos/disconnect  (2).mp4\n",
            "🎵 Converting disconnect  (3).mp3 → /content/videos/disconnect  (3).mp4\n",
            "✅ Done: /content/videos/disconnect  (3).mp4\n",
            "🎵 Converting Game On.mp3 → /content/videos/Game On.mp4\n",
            "✅ Done: /content/videos/Game On.mp4\n",
            "🎵 Converting Game On (1).mp3 → /content/videos/Game On (1).mp4\n",
            "✅ Done: /content/videos/Game On (1).mp4\n",
            "🎵 Converting Game On (2).mp3 → /content/videos/Game On (2).mp4\n",
            "✅ Done: /content/videos/Game On (2).mp4\n",
            "🎵 Converting Game On (3).mp3 → /content/videos/Game On (3).mp4\n",
            "✅ Done: /content/videos/Game On (3).mp4\n",
            "🎵 Converting King of the Seas..mp3 → /content/videos/King of the Seas..mp4\n",
            "✅ Done: /content/videos/King of the Seas..mp4\n",
            "🎵 Converting King of the Seas. (1).mp3 → /content/videos/King of the Seas. (1).mp4\n",
            "✅ Done: /content/videos/King of the Seas. (1).mp4\n",
            "🎵 Converting King of the Seas. (2).mp3 → /content/videos/King of the Seas. (2).mp4\n",
            "✅ Done: /content/videos/King of the Seas. (2).mp4\n",
            "🎵 Converting King of the Seas. (3).mp3 → /content/videos/King of the Seas. (3).mp4\n",
            "✅ Done: /content/videos/King of the Seas. (3).mp4\n",
            "🎵 Converting Fading Echoes (sad).mp3 → /content/videos/Fading Echoes (sad).mp4\n",
            "✅ Done: /content/videos/Fading Echoes (sad).mp4\n",
            "🎵 Converting Fading Echoes.mp3 → /content/videos/Fading Echoes.mp4\n",
            "✅ Done: /content/videos/Fading Echoes.mp4\n",
            "🎵 Converting Feel the Anime Pulse_.mp3 → /content/videos/Feel the Anime Pulse_.mp4\n",
            "✅ Done: /content/videos/Feel the Anime Pulse_.mp4\n",
            "🎵 Converting Feel the Anime Pulse_ (1).mp3 → /content/videos/Feel the Anime Pulse_ (1).mp4\n",
            "✅ Done: /content/videos/Feel the Anime Pulse_ (1).mp4\n",
            "🎵 Converting Feel the Anime Pulse_ (2).mp3 → /content/videos/Feel the Anime Pulse_ (2).mp4\n",
            "✅ Done: /content/videos/Feel the Anime Pulse_ (2).mp4\n",
            "🎵 Converting Feel the Anime Pulse_ (3).mp3 → /content/videos/Feel the Anime Pulse_ (3).mp4\n",
            "✅ Done: /content/videos/Feel the Anime Pulse_ (3).mp4\n",
            "🎵 Converting Exam Ka Dangal.mp3 → /content/videos/Exam Ka Dangal.mp4\n",
            "✅ Done: /content/videos/Exam Ka Dangal.mp4\n",
            "🎵 Converting Exam Ka Dangal (1).mp3 → /content/videos/Exam Ka Dangal (1).mp4\n",
            "✅ Done: /content/videos/Exam Ka Dangal (1).mp4\n",
            "🎵 Converting Exam Ka Dangal (2).mp3 → /content/videos/Exam Ka Dangal (2).mp4\n",
            "✅ Done: /content/videos/Exam Ka Dangal (2).mp4\n",
            "🎵 Converting Exam Ka Dangal (3).mp3 → /content/videos/Exam Ka Dangal (3).mp4\n",
            "✅ Done: /content/videos/Exam Ka Dangal (3).mp4\n",
            "🎵 Converting Eternal Storm_.mp3 → /content/videos/Eternal Storm_.mp4\n",
            "✅ Done: /content/videos/Eternal Storm_.mp4\n",
            "🎵 Converting Eternal Storm_ (1).mp3 → /content/videos/Eternal Storm_ (1).mp4\n",
            "✅ Done: /content/videos/Eternal Storm_ (1).mp4\n",
            "🎵 Converting Eternal Storm (1).mp3 → /content/videos/Eternal Storm (1).mp4\n",
            "✅ Done: /content/videos/Eternal Storm (1).mp4\n",
            "🎵 Converting Eternal Storm (2).mp3 → /content/videos/Eternal Storm (2).mp4\n",
            "✅ Done: /content/videos/Eternal Storm (2).mp4\n",
            "🎵 Converting Faded Memories.mp3 → /content/videos/Faded Memories.mp4\n",
            "✅ Done: /content/videos/Faded Memories.mp4\n",
            "🎵 Converting Echoes of Us.mp3 → /content/videos/Echoes of Us.mp4\n",
            "✅ Done: /content/videos/Echoes of Us.mp4\n",
            "🎵 Converting Echoes of Us (1).mp3 → /content/videos/Echoes of Us (1).mp4\n",
            "✅ Done: /content/videos/Echoes of Us (1).mp4\n",
            "🎵 Converting Friday on the Run.mp3 → /content/videos/Friday on the Run.mp4\n",
            "✅ Done: /content/videos/Friday on the Run.mp4\n",
            "🎵 Converting Friday on the Run (1).mp3 → /content/videos/Friday on the Run (1).mp4\n",
            "✅ Done: /content/videos/Friday on the Run (1).mp4\n",
            "🎵 Converting Friday on the Run (2).mp3 → /content/videos/Friday on the Run (2).mp4\n",
            "✅ Done: /content/videos/Friday on the Run (2).mp4\n",
            "🎵 Converting Friday on the Run (3).mp3 → /content/videos/Friday on the Run (3).mp4\n",
            "✅ Done: /content/videos/Friday on the Run (3).mp4\n",
            "🎵 Converting One Last Dance.mp3 → /content/videos/One Last Dance.mp4\n",
            "✅ Done: /content/videos/One Last Dance.mp4\n",
            "🎵 Converting Lobby Without You.mp3 → /content/videos/Lobby Without You.mp4\n",
            "✅ Done: /content/videos/Lobby Without You.mp4\n",
            "🎵 Converting Lobby Without You (1).mp3 → /content/videos/Lobby Without You (1).mp4\n",
            "✅ Done: /content/videos/Lobby Without You (1).mp4\n",
            "🎵 Converting Lobby Without You (2).mp3 → /content/videos/Lobby Without You (2).mp4\n",
            "✅ Done: /content/videos/Lobby Without You (2).mp4\n",
            "🎵 Converting Lobby Without You (3).mp3 → /content/videos/Lobby Without You (3).mp4\n",
            "✅ Done: /content/videos/Lobby Without You (3).mp4\n",
            "🎵 Converting Last Chance.mp3 → /content/videos/Last Chance.mp4\n",
            "✅ Done: /content/videos/Last Chance.mp4\n",
            "🎵 Converting Last Chance (faster)(1).mp3 → /content/videos/Last Chance (faster)(1).mp4\n",
            "✅ Done: /content/videos/Last Chance (faster)(1).mp4\n",
            "🎵 Converting Never Let Go.mp3 → /content/videos/Never Let Go.mp4\n",
            "✅ Done: /content/videos/Never Let Go.mp4\n",
            "🎵 Converting Never Let Go (1).mp3 → /content/videos/Never Let Go (1).mp4\n",
            "✅ Done: /content/videos/Never Let Go (1).mp4\n",
            "🎵 Converting Last Time with You.mp3 → /content/videos/Last Time with You.mp4\n",
            "✅ Done: /content/videos/Last Time with You.mp4\n",
            "🎵 Converting Tears in the Moonlight.mp3 → /content/videos/Tears in the Moonlight.mp4\n",
            "✅ Done: /content/videos/Tears in the Moonlight.mp4\n",
            "🎵 Converting Tears in the Moonlight (1).mp3 → /content/videos/Tears in the Moonlight (1).mp4\n",
            "✅ Done: /content/videos/Tears in the Moonlight (1).mp4\n",
            "🎵 Converting Mahabharata geet.mp3 → /content/videos/Mahabharata geet.mp4\n",
            "✅ Done: /content/videos/Mahabharata geet.mp4\n",
            "🎵 Converting Mahabharata geet(1).mp3 → /content/videos/Mahabharata geet(1).mp4\n",
            "✅ Done: /content/videos/Mahabharata geet(1).mp4\n",
            "🎵 Converting Mahabharata geet (2).mp3 → /content/videos/Mahabharata geet (2).mp4\n",
            "✅ Done: /content/videos/Mahabharata geet (2).mp4\n",
            "🎵 Converting Mahabharata geet (3).mp3 → /content/videos/Mahabharata geet (3).mp4\n",
            "✅ Done: /content/videos/Mahabharata geet (3).mp4\n",
            "🎵 Converting Rise Beyond.mp3 → /content/videos/Rise Beyond.mp4\n",
            "✅ Done: /content/videos/Rise Beyond.mp4\n",
            "🎵 Converting Run to You.mp3 → /content/videos/Run to You.mp4\n",
            "✅ Done: /content/videos/Run to You.mp4\n",
            "🎵 Converting Run to You (1).mp3 → /content/videos/Run to You (1).mp4\n",
            "✅ Done: /content/videos/Run to You (1).mp4\n",
            "🎵 Converting The Little Ghost’s Lullaby(6).mp3 → /content/videos/The Little Ghost’s Lullaby(6).mp4\n",
            "✅ Done: /content/videos/The Little Ghost’s Lullaby(6).mp4\n",
            "🎵 Converting The Little Ghost’s Lullaby(5).mp3 → /content/videos/The Little Ghost’s Lullaby(5).mp4\n",
            "✅ Done: /content/videos/The Little Ghost’s Lullaby(5).mp4\n",
            "🎵 Converting The Little Ghost’s Lullaby(4).mp3 → /content/videos/The Little Ghost’s Lullaby(4).mp4\n",
            "✅ Done: /content/videos/The Little Ghost’s Lullaby(4).mp4\n",
            "🎵 Converting The Little Ghost’s Lullaby(3).mp3 → /content/videos/The Little Ghost’s Lullaby(3).mp4\n",
            "✅ Done: /content/videos/The Little Ghost’s Lullaby(3).mp4\n",
            "🎵 Converting Where Do We Go From Here.mp3 → /content/videos/Where Do We Go From Here.mp4\n",
            "✅ Done: /content/videos/Where Do We Go From Here.mp4\n",
            "🎵 Converting Where Do We Go From Here (1).mp3 → /content/videos/Where Do We Go From Here (1).mp4\n",
            "✅ Done: /content/videos/Where Do We Go From Here (1).mp4\n",
            "🎵 Converting Battle Royale Kings.mp3 → /content/videos/Battle Royale Kings.mp4\n",
            "✅ Done: /content/videos/Battle Royale Kings.mp4\n",
            "🎵 Converting Battle Royale Kings (1).mp3 → /content/videos/Battle Royale Kings (1).mp4\n",
            "✅ Done: /content/videos/Battle Royale Kings (1).mp4\n",
            "🎵 Converting 🎶 Vibrazy 🎶.mp3 → /content/videos/🎶 Vibrazy 🎶.mp4\n",
            "✅ Done: /content/videos/🎶 Vibrazy 🎶.mp4\n",
            "🎵 Converting 🎶 Vibrazy 🎶 (1).mp3 → /content/videos/🎶 Vibrazy 🎶 (1).mp4\n",
            "✅ Done: /content/videos/🎶 Vibrazy 🎶 (1).mp4\n",
            "🎵 Converting 🎶 Vibrazy 🎶 (2).mp3 → /content/videos/🎶 Vibrazy 🎶 (2).mp4\n",
            "✅ Done: /content/videos/🎶 Vibrazy 🎶 (2).mp4\n",
            "🎵 Converting 🎶 Vibrazy 🎶 (3).mp3 → /content/videos/🎶 Vibrazy 🎶 (3).mp4\n",
            "✅ Done: /content/videos/🎶 Vibrazy 🎶 (3).mp4\n",
            "🎵 Converting 🎶 Vibrazy 🎶 (4).mp3 → /content/videos/🎶 Vibrazy 🎶 (4).mp4\n",
            "✅ Done: /content/videos/🎶 Vibrazy 🎶 (4).mp4\n",
            "🎵 Converting When You're Not Around.mp3 → /content/videos/When You're Not Around.mp4\n",
            "✅ Done: /content/videos/When You're Not Around.mp4\n",
            "🎵 Converting When You're Not Around (1).mp3 → /content/videos/When You're Not Around (1).mp4\n",
            "✅ Done: /content/videos/When You're Not Around (1).mp4\n",
            "🎵 Converting Blades of Eternity.mp3 → /content/videos/Blades of Eternity.mp4\n",
            "✅ Done: /content/videos/Blades of Eternity.mp4\n",
            "🎵 Converting Blades of Eternity (1).mp3 → /content/videos/Blades of Eternity (1).mp4\n",
            "✅ Done: /content/videos/Blades of Eternity (1).mp4\n",
            "🎵 Converting Blades of Eternity (2).mp3 → /content/videos/Blades of Eternity (2).mp4\n",
            "✅ Done: /content/videos/Blades of Eternity (2).mp4\n",
            "🎵 Converting Blades of Eternity (3).mp3 → /content/videos/Blades of Eternity (3).mp4\n",
            "✅ Done: /content/videos/Blades of Eternity (3).mp4\n",
            "🎵 Converting Blades of Eternity (4).mp3 → /content/videos/Blades of Eternity (4).mp4\n",
            "✅ Done: /content/videos/Blades of Eternity (4).mp4\n",
            "🎵 Converting Blades of Eternity (5).mp3 → /content/videos/Blades of Eternity (5).mp4\n",
            "✅ Done: /content/videos/Blades of Eternity (5).mp4\n",
            "🎵 Converting Blades of Eternity(6).mp3 → /content/videos/Blades of Eternity(6).mp4\n",
            "✅ Done: /content/videos/Blades of Eternity(6).mp4\n",
            "🎵 Converting Whispers in the Dark.mp3 → /content/videos/Whispers in the Dark.mp4\n",
            "✅ Done: /content/videos/Whispers in the Dark.mp4\n",
            "🎵 Converting Whispers in the Dark (1).mp3 → /content/videos/Whispers in the Dark (1).mp4\n",
            "✅ Done: /content/videos/Whispers in the Dark (1).mp4\n",
            "🎵 Converting Breath of Fire.mp3 → /content/videos/Breath of Fire.mp4\n",
            "✅ Done: /content/videos/Breath of Fire.mp4\n",
            "🎵 Converting Breath of Fire (1).mp3 → /content/videos/Breath of Fire (1).mp4\n",
            "✅ Done: /content/videos/Breath of Fire (1).mp4\n",
            "🎵 Converting _Breath of Fire.mp3 → /content/videos/_Breath of Fire.mp4\n",
            "✅ Done: /content/videos/_Breath of Fire.mp4\n",
            "🎵 Converting _Breath of Fire (1).mp3 → /content/videos/_Breath of Fire (1).mp4\n",
            "✅ Done: /content/videos/_Breath of Fire (1).mp4\n",
            "🎵 Converting _Breath of Fire (2).mp3 → /content/videos/_Breath of Fire (2).mp4\n",
            "✅ Done: /content/videos/_Breath of Fire (2).mp4\n",
            "🎵 Converting _Breath of Fire (3).mp3 → /content/videos/_Breath of Fire (3).mp4\n",
            "✅ Done: /content/videos/_Breath of Fire (3).mp4\n",
            "🎵 Converting _Breath of Fire (4).mp3 → /content/videos/_Breath of Fire (4).mp4\n",
            "✅ Done: /content/videos/_Breath of Fire (4).mp4\n",
            "🎵 Converting _Breath of Fire (5)_.mp3 → /content/videos/_Breath of Fire (5)_.mp4\n",
            "✅ Done: /content/videos/_Breath of Fire (5)_.mp4\n",
            "🎵 Converting Blood and Honor (Vinland’s Fate)(3).mp3 → /content/videos/Blood and Honor (Vinland’s Fate)(3).mp4\n",
            "✅ Done: /content/videos/Blood and Honor (Vinland’s Fate)(3).mp4\n",
            "🎵 Converting Blood and Honor (Vinland’s Fate)(4).mp3 → /content/videos/Blood and Honor (Vinland’s Fate)(4).mp4\n",
            "✅ Done: /content/videos/Blood and Honor (Vinland’s Fate)(4).mp4\n",
            "🎵 Converting Blood and Honor (Vinland’s Fate)(2).mp3 → /content/videos/Blood and Honor (Vinland’s Fate)(2).mp4\n",
            "✅ Done: /content/videos/Blood and Honor (Vinland’s Fate)(2).mp4\n",
            "🎵 Converting Chasing the Sun (1).mp3 → /content/videos/Chasing the Sun (1).mp4\n",
            "✅ Done: /content/videos/Chasing the Sun (1).mp4\n",
            "🎵 Converting Title_ Chasing the Sun (2).mp3 → /content/videos/Title_ Chasing the Sun (2).mp4\n",
            "✅ Done: /content/videos/Title_ Chasing the Sun (2).mp4\n",
            "🎵 Converting Dance Until The Sun.mp3 → /content/videos/Dance Until The Sun.mp4\n",
            "✅ Done: /content/videos/Dance Until The Sun.mp4\n",
            "🎵 Converting Dance Until The Sun (1).mp3 → /content/videos/Dance Until The Sun (1).mp4\n",
            "✅ Done: /content/videos/Dance Until The Sun (1).mp4\n",
            "🎵 Converting Dance Until The Sun (2).mp3 → /content/videos/Dance Until The Sun (2).mp4\n",
            "✅ Done: /content/videos/Dance Until The Sun (2).mp4\n",
            "🎵 Converting Wanderlust Dreams (3).mp3 → /content/videos/Wanderlust Dreams (3).mp4\n",
            "✅ Done: /content/videos/Wanderlust Dreams (3).mp4\n",
            "🎵 Converting Wanderlust Dreams (2).mp3 → /content/videos/Wanderlust Dreams (2).mp4\n",
            "✅ Done: /content/videos/Wanderlust Dreams (2).mp4\n",
            "🎵 Converting The Little Ghost’s Lullaby(6) (1).mp3 → /content/videos/The Little Ghost’s Lullaby(6) (1).mp4\n",
            "✅ Done: /content/videos/The Little Ghost’s Lullaby(6) (1).mp4\n",
            "🎵 Converting The Little Ghost’s Lullaby(5) (1).mp3 → /content/videos/The Little Ghost’s Lullaby(5) (1).mp4\n",
            "✅ Done: /content/videos/The Little Ghost’s Lullaby(5) (1).mp4\n",
            "🎵 Converting The Little Ghost’s Lullaby(4) (1).mp3 → /content/videos/The Little Ghost’s Lullaby(4) (1).mp4\n",
            "✅ Done: /content/videos/The Little Ghost’s Lullaby(4) (1).mp4\n",
            "🎵 Converting The Little Ghost’s Lullaby(3) (1).mp3 → /content/videos/The Little Ghost’s Lullaby(3) (1).mp4\n",
            "✅ Done: /content/videos/The Little Ghost’s Lullaby(3) (1).mp4\n",
            "🎵 Converting Tarara Nights (3).mp3 → /content/videos/Tarara Nights (3).mp4\n",
            "✅ Done: /content/videos/Tarara Nights (3).mp4\n",
            "🎵 Converting Tarara Nights (2).mp3 → /content/videos/Tarara Nights (2).mp4\n",
            "✅ Done: /content/videos/Tarara Nights (2).mp4\n",
            "🎵 Converting Tears in the Moonlight (3).mp3 → /content/videos/Tears in the Moonlight (3).mp4\n",
            "✅ Done: /content/videos/Tears in the Moonlight (3).mp4\n",
            "🎵 Converting Tears in the Moonlight (2).mp3 → /content/videos/Tears in the Moonlight (2).mp4\n",
            "✅ Done: /content/videos/Tears in the Moonlight (2).mp4\n",
            "🎵 Converting Whispers in the Dark (3).mp3 → /content/videos/Whispers in the Dark (3).mp4\n",
            "✅ Done: /content/videos/Whispers in the Dark (3).mp4\n",
            "🎵 Converting Whispers in the Dark (2).mp3 → /content/videos/Whispers in the Dark (2).mp4\n",
            "✅ Done: /content/videos/Whispers in the Dark (2).mp4\n",
            "🎵 Converting Battle Royale Kings (3).mp3 → /content/videos/Battle Royale Kings (3).mp4\n",
            "✅ Done: /content/videos/Battle Royale Kings (3).mp4\n",
            "🎵 Converting Battle Royale Kings (2).mp3 → /content/videos/Battle Royale Kings (2).mp4\n",
            "✅ Done: /content/videos/Battle Royale Kings (2).mp4\n",
            "🎵 Converting Where Do We Go From Here (3).mp3 → /content/videos/Where Do We Go From Here (3).mp4\n",
            "✅ Done: /content/videos/Where Do We Go From Here (3).mp4\n",
            "🎵 Converting Where Do We Go From Here (2).mp3 → /content/videos/Where Do We Go From Here (2).mp4\n",
            "✅ Done: /content/videos/Where Do We Go From Here (2).mp4\n",
            "🎵 Converting The Thing That Calls Your Name_1 (1).mp3 → /content/videos/The Thing That Calls Your Name_1 (1).mp4\n",
            "✅ Done: /content/videos/The Thing That Calls Your Name_1 (1).mp4\n",
            "🎵 Converting The Thing That Calls Your Name_2 (1).mp3 → /content/videos/The Thing That Calls Your Name_2 (1).mp4\n",
            "✅ Done: /content/videos/The Thing That Calls Your Name_2 (1).mp4\n",
            "🎵 Converting 🎶 Vibrazy 🎶 (9).mp3 → /content/videos/🎶 Vibrazy 🎶 (9).mp4\n",
            "✅ Done: /content/videos/🎶 Vibrazy 🎶 (9).mp4\n",
            "🎵 Converting 🎶 Vibrazy 🎶 (5).mp3 → /content/videos/🎶 Vibrazy 🎶 (5).mp4\n",
            "✅ Done: /content/videos/🎶 Vibrazy 🎶 (5).mp4\n",
            "🎵 Converting 🎶 Vibrazy 🎶 (6).mp3 → /content/videos/🎶 Vibrazy 🎶 (6).mp4\n",
            "✅ Done: /content/videos/🎶 Vibrazy 🎶 (6).mp4\n",
            "🎵 Converting 🎶 Vibrazy 🎶 (7).mp3 → /content/videos/🎶 Vibrazy 🎶 (7).mp4\n",
            "✅ Done: /content/videos/🎶 Vibrazy 🎶 (7).mp4\n",
            "🎵 Converting 🎶 Vibrazy 🎶 (8).mp3 → /content/videos/🎶 Vibrazy 🎶 (8).mp4\n",
            "✅ Done: /content/videos/🎶 Vibrazy 🎶 (8).mp4\n",
            "🎵 Converting When You're Not Around (3).mp3 → /content/videos/When You're Not Around (3).mp4\n",
            "✅ Done: /content/videos/When You're Not Around (3).mp4\n",
            "🎵 Converting When You're Not Around (2).mp3 → /content/videos/When You're Not Around (2).mp4\n",
            "✅ Done: /content/videos/When You're Not Around (2).mp4\n",
            "🎵 Converting Echoes of Us (3).mp3 → /content/videos/Echoes of Us (3).mp4\n",
            "✅ Done: /content/videos/Echoes of Us (3).mp4\n",
            "🎵 Converting Echoes of Us (2).mp3 → /content/videos/Echoes of Us (2).mp4\n",
            "✅ Done: /content/videos/Echoes of Us (2).mp4\n",
            "🎵 Converting Chasing the Sun (2).mp3 → /content/videos/Chasing the Sun (2).mp4\n",
            "✅ Done: /content/videos/Chasing the Sun (2).mp4\n",
            "🎵 Converting Title_ Chasing the Sun (3).mp3 → /content/videos/Title_ Chasing the Sun (3).mp4\n",
            "✅ Done: /content/videos/Title_ Chasing the Sun (3).mp4\n",
            "🎵 Converting Blades of Eternity (11).mp3 → /content/videos/Blades of Eternity (11).mp4\n",
            "✅ Done: /content/videos/Blades of Eternity (11).mp4\n",
            "🎵 Converting Blades of Eternity (6).mp3 → /content/videos/Blades of Eternity (6).mp4\n",
            "✅ Done: /content/videos/Blades of Eternity (6).mp4\n",
            "🎵 Converting Blades of Eternity (7).mp3 → /content/videos/Blades of Eternity (7).mp4\n",
            "✅ Done: /content/videos/Blades of Eternity (7).mp4\n",
            "🎵 Converting Blades of Eternity (8).mp3 → /content/videos/Blades of Eternity (8).mp4\n",
            "✅ Done: /content/videos/Blades of Eternity (8).mp4\n",
            "🎵 Converting Blades of Eternity (9).mp3 → /content/videos/Blades of Eternity (9).mp4\n",
            "✅ Done: /content/videos/Blades of Eternity (9).mp4\n",
            "🎵 Converting Blades of Eternity (10).mp3 → /content/videos/Blades of Eternity (10).mp4\n",
            "✅ Done: /content/videos/Blades of Eternity (10).mp4\n",
            "🎵 Converting Blades of Eternity(6) (1).mp3 → /content/videos/Blades of Eternity(6) (1).mp4\n",
            "✅ Done: /content/videos/Blades of Eternity(6) (1).mp4\n",
            "🎵 Converting Fading Echoes (sad) (1).mp3 → /content/videos/Fading Echoes (sad) (1).mp4\n",
            "✅ Done: /content/videos/Fading Echoes (sad) (1).mp4\n",
            "🎵 Converting Fading Echoes (1).mp3 → /content/videos/Fading Echoes (1).mp4\n",
            "✅ Done: /content/videos/Fading Echoes (1).mp4\n",
            "🎵 Converting disconnect  (7).mp3 → /content/videos/disconnect  (7).mp4\n",
            "✅ Done: /content/videos/disconnect  (7).mp4\n",
            "🎵 Converting disconnect  (4).mp3 → /content/videos/disconnect  (4).mp4\n",
            "✅ Done: /content/videos/disconnect  (4).mp4\n",
            "🎵 Converting disconnect  (Remastered) (3).mp3 → /content/videos/disconnect  (Remastered) (3).mp4\n",
            "✅ Done: /content/videos/disconnect  (Remastered) (3).mp4\n",
            "🎵 Converting disconnect  (Remastered) (2).mp3 → /content/videos/disconnect  (Remastered) (2).mp4\n",
            "✅ Done: /content/videos/disconnect  (Remastered) (2).mp4\n",
            "🎵 Converting disconnect  (5).mp3 → /content/videos/disconnect  (5).mp4\n",
            "✅ Done: /content/videos/disconnect  (5).mp4\n",
            "🎵 Converting disconnect  (6).mp3 → /content/videos/disconnect  (6).mp4\n",
            "✅ Done: /content/videos/disconnect  (6).mp4\n",
            "🎵 Converting Exam Ka Dangal (7).mp3 → /content/videos/Exam Ka Dangal (7).mp4\n",
            "✅ Done: /content/videos/Exam Ka Dangal (7).mp4\n",
            "🎵 Converting Exam Ka Dangal (4).mp3 → /content/videos/Exam Ka Dangal (4).mp4\n",
            "✅ Done: /content/videos/Exam Ka Dangal (4).mp4\n",
            "🎵 Converting Exam Ka Dangal (5).mp3 → /content/videos/Exam Ka Dangal (5).mp4\n",
            "✅ Done: /content/videos/Exam Ka Dangal (5).mp4\n",
            "🎵 Converting Exam Ka Dangal (6).mp3 → /content/videos/Exam Ka Dangal (6).mp4\n",
            "✅ Done: /content/videos/Exam Ka Dangal (6).mp4\n",
            "🎵 Converting Breath of Fire (3).mp3 → /content/videos/Breath of Fire (3).mp4\n",
            "✅ Done: /content/videos/Breath of Fire (3).mp4\n",
            "🎵 Converting Breath of Fire (2).mp3 → /content/videos/Breath of Fire (2).mp4\n",
            "✅ Done: /content/videos/Breath of Fire (2).mp4\n",
            "🎵 Converting _Breath of Fire (9).mp3 → /content/videos/_Breath of Fire (9).mp4\n",
            "✅ Done: /content/videos/_Breath of Fire (9).mp4\n",
            "🎵 Converting _Breath of Fire (5).mp3 → /content/videos/_Breath of Fire (5).mp4\n",
            "✅ Done: /content/videos/_Breath of Fire (5).mp4\n",
            "🎵 Converting _Breath of Fire (6).mp3 → /content/videos/_Breath of Fire (6).mp4\n",
            "✅ Done: /content/videos/_Breath of Fire (6).mp4\n",
            "🎵 Converting _Breath of Fire (7).mp3 → /content/videos/_Breath of Fire (7).mp4\n",
            "✅ Done: /content/videos/_Breath of Fire (7).mp4\n",
            "🎵 Converting _Breath of Fire (8).mp3 → /content/videos/_Breath of Fire (8).mp4\n",
            "✅ Done: /content/videos/_Breath of Fire (8).mp4\n",
            "🎵 Converting _Breath of Fire (5)_ (1).mp3 → /content/videos/_Breath of Fire (5)_ (1).mp4\n",
            "✅ Done: /content/videos/_Breath of Fire (5)_ (1).mp4\n",
            "🎵 Converting Eternal Storm_ (3).mp3 → /content/videos/Eternal Storm_ (3).mp4\n",
            "✅ Done: /content/videos/Eternal Storm_ (3).mp4\n",
            "🎵 Converting Eternal Storm_ (2).mp3 → /content/videos/Eternal Storm_ (2).mp4\n",
            "✅ Done: /content/videos/Eternal Storm_ (2).mp4\n",
            "🎵 Converting Eternal Storm (3).mp3 → /content/videos/Eternal Storm (3).mp4\n",
            "✅ Done: /content/videos/Eternal Storm (3).mp4\n",
            "🎵 Converting Eternal Storm (4).mp3 → /content/videos/Eternal Storm (4).mp4\n",
            "✅ Done: /content/videos/Eternal Storm (4).mp4\n",
            "🎵 Converting Blood and Honor (Vinland’s Fate)(3) (1).mp3 → /content/videos/Blood and Honor (Vinland’s Fate)(3) (1).mp4\n",
            "✅ Done: /content/videos/Blood and Honor (Vinland’s Fate)(3) (1).mp4\n",
            "🎵 Converting Blood and Honor (Vinland’s Fate)(4) (1).mp3 → /content/videos/Blood and Honor (Vinland’s Fate)(4) (1).mp4\n",
            "✅ Done: /content/videos/Blood and Honor (Vinland’s Fate)(4) (1).mp4\n",
            "🎵 Converting Blood and Honor (Vinland’s Fate)(2) (1).mp3 → /content/videos/Blood and Honor (Vinland’s Fate)(2) (1).mp4\n",
            "✅ Done: /content/videos/Blood and Honor (Vinland’s Fate)(2) (1).mp4\n",
            "🎵 Converting Faded Memories (1).mp3 → /content/videos/Faded Memories (1).mp4\n",
            "✅ Done: /content/videos/Faded Memories (1).mp4\n",
            "🎵 Converting Lobby Without You (7).mp3 → /content/videos/Lobby Without You (7).mp4\n",
            "✅ Done: /content/videos/Lobby Without You (7).mp4\n",
            "🎵 Converting Lobby Without You (4).mp3 → /content/videos/Lobby Without You (4).mp4\n",
            "✅ Done: /content/videos/Lobby Without You (4).mp4\n",
            "🎵 Converting Lobby Without You (5).mp3 → /content/videos/Lobby Without You (5).mp4\n",
            "✅ Done: /content/videos/Lobby Without You (5).mp4\n",
            "🎵 Converting Lobby Without You (6).mp3 → /content/videos/Lobby Without You (6).mp4\n",
            "✅ Done: /content/videos/Lobby Without You (6).mp4\n",
            "🎵 Converting Friday on the Run (7).mp3 → /content/videos/Friday on the Run (7).mp4\n",
            "✅ Done: /content/videos/Friday on the Run (7).mp4\n",
            "🎵 Converting Friday on the Run (4).mp3 → /content/videos/Friday on the Run (4).mp4\n",
            "✅ Done: /content/videos/Friday on the Run (4).mp4\n",
            "🎵 Converting Friday on the Run (5).mp3 → /content/videos/Friday on the Run (5).mp4\n",
            "✅ Done: /content/videos/Friday on the Run (5).mp4\n",
            "🎵 Converting Friday on the Run (6).mp3 → /content/videos/Friday on the Run (6).mp4\n",
            "✅ Done: /content/videos/Friday on the Run (6).mp4\n",
            "🎵 Converting Game On (7).mp3 → /content/videos/Game On (7).mp4\n",
            "✅ Done: /content/videos/Game On (7).mp4\n",
            "🎵 Converting Game On (4).mp3 → /content/videos/Game On (4).mp4\n"
          ]
        }
      ]
    },
    {
      "cell_type": "code",
      "source": [
        "import datetime, pytz\n",
        "from googleapiclient.http import MediaFileUpload\n",
        "\n",
        "# Scheduling config\n",
        "IST = pytz.timezone(\"Asia/Kolkata\")\n",
        "PUBLISH_HOUR = 18   # 6 PM IST\n",
        "MAX_UPLOADS_PER_RUN = 6\n",
        "\n",
        "start_date = datetime.datetime.now(IST).date() + datetime.timedelta(days=1)\n",
        "publish_times = []\n",
        "\n",
        "for i in range(len(video_files)):\n",
        "    local_dt = IST.localize(datetime.datetime.combine(start_date + datetime.timedelta(days=i), datetime.time(PUBLISH_HOUR, 0)))\n",
        "    publish_times.append(local_dt.astimezone(pytz.utc).strftime(\"%Y-%m-%dT%H:%M:%SZ\"))\n",
        "\n",
        "# Upload only up to quota limit\n",
        "batch = video_files[:MAX_UPLOADS_PER_RUN]\n",
        "\n",
        "for i, (title, video) in enumerate(batch):\n",
        "    publishAt = publish_times[i]\n",
        "    request = youtube.videos().insert(\n",
        "        part=\"snippet,status\",\n",
        "        body={\n",
        "            \"snippet\": {\n",
        "                \"title\": title,\n",
        "                \"description\": f\"Auto-uploaded version of {title}\",\n",
        "                \"tags\": [\"music\", \"auto-upload\"],\n",
        "                \"categoryId\": \"10\"\n",
        "            },\n",
        "            \"status\": {\n",
        "                \"privacyStatus\": \"private\",\n",
        "                \"publishAt\": publishAt\n",
        "            }\n",
        "        },\n",
        "        media_body=MediaFileUpload(video)\n",
        "    )\n",
        "    response = request.execute()\n",
        "    print(f\"✅ Uploaded {title} → Scheduled {publishAt}\")\n"
      ],
      "metadata": {
        "id": "jlIxCU--uJJv"
      },
      "execution_count": null,
      "outputs": []
    }
  ],
  "metadata": {
    "colab": {
      "name": "Welcome To Colab",
      "provenance": [],
      "include_colab_link": true
    },
    "kernelspec": {
      "display_name": "Python 3",
      "name": "python3"
    }
  },
  "nbformat": 4,
  "nbformat_minor": 0
}